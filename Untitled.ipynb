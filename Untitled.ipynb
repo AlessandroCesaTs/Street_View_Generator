{
 "cells": [
  {
   "cell_type": "code",
   "execution_count": 1,
   "id": "c52a41c6-d577-4cb1-8b83-004fedc87cc7",
   "metadata": {},
   "outputs": [
    {
     "ename": "NameError",
     "evalue": "name 'impo' is not defined",
     "output_type": "error",
     "traceback": [
      "\u001b[0;31m---------------------------------------------------------------------------\u001b[0m",
      "\u001b[0;31mNameError\u001b[0m                                 Traceback (most recent call last)",
      "Cell \u001b[0;32mIn[1], line 2\u001b[0m\n\u001b[1;32m      1\u001b[0m \u001b[38;5;28;01mfrom\u001b[39;00m \u001b[38;5;21;01mPIL\u001b[39;00m \u001b[38;5;28;01mimport\u001b[39;00m Image\n\u001b[0;32m----> 2\u001b[0m \u001b[43mimpo\u001b[49m\n",
      "\u001b[0;31mNameError\u001b[0m: name 'impo' is not defined"
     ]
    }
   ],
   "source": [
    "from PIL import Image\n"
   ]
  },
  {
   "cell_type": "code",
   "execution_count": null,
   "id": "3c11de3d-ae32-4503-b6f8-53752918b97f",
   "metadata": {},
   "outputs": [],
   "source": [
    "image = Image.open(\"/u/dssc/acesa000/fast/Street_View_Generator_data/hf_dataset/images/test/00/485795036938420.jpg\")"
   ]
  },
  {
   "cell_type": "code",
   "execution_count": null,
   "id": "342f7a08-9170-4028-93a7-4e075b102a68",
   "metadata": {},
   "outputs": [],
   "source": [
    "import matplotlib.pyplot as plt\n"
   ]
  },
  {
   "cell_type": "code",
   "execution_count": null,
   "id": "01cb3cbe-7cad-4b31-9b4c-7a5fe5d3f066",
   "metadata": {},
   "outputs": [],
   "source": [
    "plt.imshow(image)"
   ]
  },
  {
   "cell_type": "code",
   "execution_count": 2,
   "id": "0aa37e82-3225-42a4-8a13-4ac8180f52d3",
   "metadata": {},
   "outputs": [],
   "source": [
    "import pandas as pd"
   ]
  },
  {
   "cell_type": "code",
   "execution_count": 5,
   "id": "fb32cdaf-f642-4f72-9fd0-b0a7e0da712f",
   "metadata": {},
   "outputs": [],
   "source": [
    "metadata=pd.read_csv(\"/u/dssc/acesa000/fast/Street_View_Generator_data/hf_dataset/test.csv\")\n"
   ]
  },
  {
   "cell_type": "code",
   "execution_count": 6,
   "id": "6c43abd7-69f7-458a-94bf-956552d4bc97",
   "metadata": {},
   "outputs": [],
   "source": [
    "base_directory='/u/dssc/acesa000/fast/Street_View_Generator_data/hf_dataset/images/test'\n",
    "output_dir = '/u/dssc/acesa000/fast/Street_View_Generator_data/hf_dataset_processed.pt'\n"
   ]
  },
  {
   "cell_type": "code",
   "execution_count": 10,
   "id": "6a38f49a-54fa-4d86-8bd1-cf65b05f3c5b",
   "metadata": {},
   "outputs": [
    {
     "name": "stdout",
     "output_type": "stream",
     "text": [
      "874269626463941\n",
      "44047    59.80941\n",
      "Name: latitude, dtype: float64\n"
     ]
    }
   ],
   "source": [
    "image_id=874269626463941\n",
    "print(image_id)\n",
    "print(metadata[metadata[\"id\"]==image_id][\"latitude\"])\n",
    "latitude=metadata[metadata[\"id\"]==image_id][\"latitude\"].item()"
   ]
  },
  {
   "cell_type": "code",
   "execution_count": 14,
   "id": "a44e20fe-52e7-47cf-9e06-6d1a631473c2",
   "metadata": {},
   "outputs": [
    {
     "name": "stdout",
     "output_type": "stream",
     "text": [
      "874269626463941\n",
      "Series([], Name: latitude, dtype: float64)\n"
     ]
    },
    {
     "ename": "ValueError",
     "evalue": "can only convert an array of size 1 to a Python scalar",
     "output_type": "error",
     "traceback": [
      "\u001b[0;31m---------------------------------------------------------------------------\u001b[0m",
      "\u001b[0;31mValueError\u001b[0m                                Traceback (most recent call last)",
      "Cell \u001b[0;32mIn[14], line 8\u001b[0m\n\u001b[1;32m      6\u001b[0m \u001b[38;5;28mprint\u001b[39m(image_id)\n\u001b[1;32m      7\u001b[0m \u001b[38;5;28mprint\u001b[39m(metadata[metadata[\u001b[38;5;124m\"\u001b[39m\u001b[38;5;124mid\u001b[39m\u001b[38;5;124m\"\u001b[39m]\u001b[38;5;241m==\u001b[39mimage_id][\u001b[38;5;124m\"\u001b[39m\u001b[38;5;124mlatitude\u001b[39m\u001b[38;5;124m\"\u001b[39m])\n\u001b[0;32m----> 8\u001b[0m latitude\u001b[38;5;241m=\u001b[39m\u001b[43mmetadata\u001b[49m\u001b[43m[\u001b[49m\u001b[43mmetadata\u001b[49m\u001b[43m[\u001b[49m\u001b[38;5;124;43m\"\u001b[39;49m\u001b[38;5;124;43mid\u001b[39;49m\u001b[38;5;124;43m\"\u001b[39;49m\u001b[43m]\u001b[49m\u001b[38;5;241;43m==\u001b[39;49m\u001b[43mimage_id\u001b[49m\u001b[43m]\u001b[49m\u001b[43m[\u001b[49m\u001b[38;5;124;43m\"\u001b[39;49m\u001b[38;5;124;43mlatitude\u001b[39;49m\u001b[38;5;124;43m\"\u001b[39;49m\u001b[43m]\u001b[49m\u001b[38;5;241;43m.\u001b[39;49m\u001b[43mitem\u001b[49m\u001b[43m(\u001b[49m\u001b[43m)\u001b[49m\n",
      "File \u001b[0;32m/orfeo/cephfs/home/dssc/acesa000/Street_View_Generator/environment/lib/python3.10/site-packages/pandas/core/base.py:418\u001b[0m, in \u001b[0;36mIndexOpsMixin.item\u001b[0;34m(self)\u001b[0m\n\u001b[1;32m    416\u001b[0m \u001b[38;5;28;01mif\u001b[39;00m \u001b[38;5;28mlen\u001b[39m(\u001b[38;5;28mself\u001b[39m) \u001b[38;5;241m==\u001b[39m \u001b[38;5;241m1\u001b[39m:\n\u001b[1;32m    417\u001b[0m     \u001b[38;5;28;01mreturn\u001b[39;00m \u001b[38;5;28mnext\u001b[39m(\u001b[38;5;28miter\u001b[39m(\u001b[38;5;28mself\u001b[39m))\n\u001b[0;32m--> 418\u001b[0m \u001b[38;5;28;01mraise\u001b[39;00m \u001b[38;5;167;01mValueError\u001b[39;00m(\u001b[38;5;124m\"\u001b[39m\u001b[38;5;124mcan only convert an array of size 1 to a Python scalar\u001b[39m\u001b[38;5;124m\"\u001b[39m)\n",
      "\u001b[0;31mValueError\u001b[0m: can only convert an array of size 1 to a Python scalar"
     ]
    }
   ],
   "source": [
    "for folder in [base_directory+\"/00\",base_directory+\"/01\",base_directory+\"/02\",base_directory+\"/03\",base_directory+\"/04\"]:\n",
    "    images = os.listdir(folder)\n",
    "    for image in images:\n",
    "        image_path = os.path.join(folder, image)\n",
    "        image_id=image[:-4]\n",
    "        print(image_id)\n",
    "        print(metadata[metadata[\"id\"]==image_id][\"latitude\"])\n",
    "        latitude=metadata[metadata[\"id\"]==image_id][\"latitude\"].item()\n"
   ]
  },
  {
   "cell_type": "code",
   "execution_count": 8,
   "id": "93918be8-e1be-4eb4-a6ad-8717618ed7b4",
   "metadata": {},
   "outputs": [],
   "source": [
    "import os"
   ]
  },
  {
   "cell_type": "code",
   "execution_count": 13,
   "id": "a3ea2b77-905a-4b62-b4d9-b4aa0b0e63ee",
   "metadata": {},
   "outputs": [
    {
     "name": "stdout",
     "output_type": "stream",
     "text": [
      "874269626463941\n",
      "44047    59.80941\n",
      "Name: latitude, dtype: float64\n"
     ]
    }
   ],
   "source": [
    "image_id=874269626463941\n",
    "print(image_id)\n",
    "print(metadata[metadata[\"id\"]==image_id][\"latitude\"])\n",
    "latitude=metadata[metadata[\"id\"]==image_id][\"latitude\"].item()\n"
   ]
  },
  {
   "cell_type": "code",
   "execution_count": null,
   "id": "1d342c2d-e783-431c-9425-a0000a7a6aca",
   "metadata": {},
   "outputs": [],
   "source": []
  }
 ],
 "metadata": {
  "kernelspec": {
   "display_name": "Python (environment)",
   "language": "python",
   "name": "environment"
  },
  "language_info": {
   "codemirror_mode": {
    "name": "ipython",
    "version": 3
   },
   "file_extension": ".py",
   "mimetype": "text/x-python",
   "name": "python",
   "nbconvert_exporter": "python",
   "pygments_lexer": "ipython3",
   "version": "3.10.10"
  }
 },
 "nbformat": 4,
 "nbformat_minor": 5
}
